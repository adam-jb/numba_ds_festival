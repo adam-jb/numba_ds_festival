{
 "cells": [
  {
   "cell_type": "code",
   "execution_count": 50,
   "id": "0ba091a6",
   "metadata": {},
   "outputs": [],
   "source": [
    "\n",
    "import numba as nb\n",
    "import numpy as np\n",
    "import random\n"
   ]
  },
  {
   "cell_type": "markdown",
   "id": "fb41c0e9",
   "metadata": {},
   "source": [
    "## Jitting\n",
    "\n",
    "using random()\n",
    "\n",
    "If a function doesnt work with numba, it'll tell you. Most base functions will work\n",
    "\n",
    "Can call most numpy fucntions too"
   ]
  },
  {
   "cell_type": "code",
   "execution_count": 67,
   "id": "559568e1",
   "metadata": {},
   "outputs": [],
   "source": [
    "\n",
    "@nb.njit()\n",
    "def monte_carlo_pi(nsamples):\n",
    "    acc = 0\n",
    "    for i in range(nsamples):\n",
    "        x = random.random()\n",
    "        y = random.random()\n",
    "        if (x ** 2 + y ** 2) < 1.0:\n",
    "            acc += 1\n",
    "    return 4.0 * acc / nsamples\n"
   ]
  },
  {
   "cell_type": "code",
   "execution_count": 68,
   "id": "c88bdbb3",
   "metadata": {},
   "outputs": [
    {
     "name": "stdout",
     "output_type": "stream",
     "text": [
      "CPU times: user 116 ms, sys: 2.84 ms, total: 119 ms\n",
      "Wall time: 118 ms\n"
     ]
    },
    {
     "data": {
      "text/plain": [
       "3.141624"
      ]
     },
     "execution_count": 68,
     "metadata": {},
     "output_type": "execute_result"
    }
   ],
   "source": [
    "%%time\n",
    "monte_carlo_pi(1_000_000)"
   ]
  },
  {
   "cell_type": "markdown",
   "id": "18d7a092",
   "metadata": {},
   "source": [
    "Use njit, never jit\n",
    "\n",
    "As numba can be harder to debug, want to make lots of small functions "
   ]
  },
  {
   "cell_type": "code",
   "execution_count": null,
   "id": "9c1d95b9",
   "metadata": {},
   "outputs": [],
   "source": []
  },
  {
   "cell_type": "code",
   "execution_count": null,
   "id": "b5dc004e",
   "metadata": {},
   "outputs": [],
   "source": []
  },
  {
   "cell_type": "code",
   "execution_count": null,
   "id": "53ca1fd7",
   "metadata": {},
   "outputs": [],
   "source": []
  },
  {
   "cell_type": "code",
   "execution_count": null,
   "id": "40f0cb6a",
   "metadata": {},
   "outputs": [],
   "source": []
  },
  {
   "cell_type": "markdown",
   "id": "e9fb30c1",
   "metadata": {},
   "source": [
    "## np arrays\n",
    "\n",
    "Numba can be faster than numpy broadcasting\n",
    "\n",
    "Great for custom numpy functions"
   ]
  },
  {
   "cell_type": "code",
   "execution_count": 76,
   "id": "5fd2a589",
   "metadata": {},
   "outputs": [],
   "source": [
    "norm_array = np.random.normal(size = 1_000_000)"
   ]
  },
  {
   "cell_type": "code",
   "execution_count": 82,
   "id": "77c43fe9",
   "metadata": {},
   "outputs": [],
   "source": [
    "@nb.njit()\n",
    "def times_two(norm_array):\n",
    "    for i in range(len(norm_array)):\n",
    "        norm_array[i] = norm_array[i] * 2\n",
    "    return norm_array\n"
   ]
  },
  {
   "cell_type": "code",
   "execution_count": 91,
   "id": "0c152cd7",
   "metadata": {},
   "outputs": [
    {
     "name": "stdout",
     "output_type": "stream",
     "text": [
      "CPU times: user 806 µs, sys: 1e+03 ns, total: 807 µs\n",
      "Wall time: 813 µs\n",
      "CPU times: user 2.91 ms, sys: 2.42 ms, total: 5.33 ms\n",
      "Wall time: 4.74 ms\n"
     ]
    },
    {
     "data": {
      "text/plain": [
       "array([-142.26396453,  -15.06005895, -508.47305233, ...,  223.81593988,\n",
       "       -151.62310225,   32.49740498])"
      ]
     },
     "execution_count": 91,
     "metadata": {},
     "output_type": "execute_result"
    }
   ],
   "source": [
    "%time times_two(norm_array)\n",
    "%time norm_array * 2"
   ]
  },
  {
   "cell_type": "code",
   "execution_count": null,
   "id": "acb14b10",
   "metadata": {},
   "outputs": [],
   "source": []
  },
  {
   "cell_type": "markdown",
   "id": "f1364281",
   "metadata": {},
   "source": [
    "## Parallel\n",
    "\n",
    "prange is key\n",
    "\n",
    "prange says the loop can be parallelised: there are no cross-iteration dependencies\n",
    "\n",
    "reductions are allowed in prange\n",
    "\n",
    "reductions can be on single values or predefined arrays, and use +=, -=, *=, and /= operators.\n",
    "\n",
    "no need for threadPoolExecutor"
   ]
  },
  {
   "cell_type": "code",
   "execution_count": null,
   "id": "e07a00bf",
   "metadata": {},
   "outputs": [],
   "source": [
    "huge_norm_array = np.random.normal(size=1_000_000_000)\n",
    "big_norm_array = np.random.normal(size=100_000_000)\n"
   ]
  },
  {
   "cell_type": "code",
   "execution_count": null,
   "id": "ebd42632",
   "metadata": {},
   "outputs": [],
   "source": [
    "@nb.njit()#parallel=True)\n",
    "def add_all(norm_array):\n",
    "    x = 0\n",
    "    for i in nb.prange(len(norm_array)):\n",
    "        x += norm_array[i] * 2\n",
    "    return x"
   ]
  },
  {
   "cell_type": "code",
   "execution_count": null,
   "id": "b607983d",
   "metadata": {},
   "outputs": [],
   "source": [
    "%time add_all(huge_norm_array)"
   ]
  },
  {
   "cell_type": "code",
   "execution_count": null,
   "id": "70a7af0b",
   "metadata": {},
   "outputs": [],
   "source": [
    "## Other approach to parallel\n",
    "@nb.njit(parallel=True)\n",
    "def simulator(huge_norm_array, iter_count):\n",
    "    # iterate loop in parallel\n",
    "    out = [1.0] * iter_count\n",
    "    for i in nb.prange(iter_count):\n",
    "        out[i] = add_all(huge_norm_array)\n",
    "        \n",
    "    return out"
   ]
  },
  {
   "cell_type": "code",
   "execution_count": null,
   "id": "c54b8bb8",
   "metadata": {},
   "outputs": [],
   "source": [
    "from multiprocessing import cpu_count\n",
    "\n",
    "%time simulator(big_norm_array, cpu_count())"
   ]
  },
  {
   "cell_type": "code",
   "execution_count": null,
   "id": "ad874652",
   "metadata": {},
   "outputs": [],
   "source": [
    "## set this to something other than zero to get warning when doesnt parallelise successfully\n",
    "import os\n",
    "os.environ[\"NUMBA_WARNINGS\"] = '0'"
   ]
  },
  {
   "cell_type": "code",
   "execution_count": null,
   "id": "72fc833c",
   "metadata": {},
   "outputs": [],
   "source": []
  },
  {
   "cell_type": "code",
   "execution_count": null,
   "id": "6110c4d0",
   "metadata": {},
   "outputs": [],
   "source": []
  },
  {
   "cell_type": "markdown",
   "id": "738fb44c",
   "metadata": {},
   "source": [
    "## Reflected lists\n",
    "\n",
    "Normal lists are 'reflected' in numba. Meaning they have a nopython implementation, but look to us like standard lists\n",
    "\n",
    "Get depreciation warning\n",
    "\n",
    "Arrays are preferable, unless you're going to be appending and popping"
   ]
  },
  {
   "cell_type": "code",
   "execution_count": 168,
   "id": "d248f4f1",
   "metadata": {},
   "outputs": [],
   "source": [
    "@nb.njit()\n",
    "def add_and_pop(list_in):\n",
    "    for i in range(10_0000):\n",
    "        list_in.append(2)\n",
    "    for i in range(10_0000):\n",
    "        list_in.pop()\n",
    "    return list_in\n"
   ]
  },
  {
   "cell_type": "code",
   "execution_count": 171,
   "id": "ee94e952",
   "metadata": {},
   "outputs": [
    {
     "name": "stdout",
     "output_type": "stream",
     "text": [
      "CPU times: user 1.04 ms, sys: 413 µs, total: 1.46 ms\n",
      "Wall time: 1.49 ms\n"
     ]
    },
    {
     "data": {
      "text/plain": [
       "[1, 2, 3, 4]"
      ]
     },
     "execution_count": 171,
     "metadata": {},
     "output_type": "execute_result"
    }
   ],
   "source": [
    "%time add_and_pop([1, 2, 3, 4])"
   ]
  },
  {
   "cell_type": "markdown",
   "id": "1b750768",
   "metadata": {},
   "source": [
    "#### Tuples also available"
   ]
  },
  {
   "cell_type": "code",
   "execution_count": null,
   "id": "a4a9fe02",
   "metadata": {},
   "outputs": [],
   "source": []
  },
  {
   "cell_type": "code",
   "execution_count": null,
   "id": "1cfdd120",
   "metadata": {},
   "outputs": [],
   "source": []
  },
  {
   "cell_type": "markdown",
   "id": "d6bb4bf8",
   "metadata": {},
   "source": [
    "## Dictionaries and transport simulation\n",
    "\n",
    "How many locations can be visited from each start place within 400 seconds?"
   ]
  },
  {
   "cell_type": "code",
   "execution_count": 245,
   "id": "6145c72d",
   "metadata": {},
   "outputs": [],
   "source": [
    "\n",
    "import pandas as pd\n",
    "\n",
    "## change this!!\n",
    "path = '/Users/dftdatascience/Downloads/minified_data_for_model_walk.pickle'\n",
    "walk_network = pd.read_pickle(path)\n"
   ]
  },
  {
   "cell_type": "code",
   "execution_count": 177,
   "id": "644172f0",
   "metadata": {},
   "outputs": [
    {
     "data": {
      "text/plain": [
       "[299, 479, 547, 640, 741, 1166, 1431, 1933, 3088, 3273]"
      ]
     },
     "execution_count": 177,
     "metadata": {},
     "output_type": "execute_result"
    }
   ],
   "source": [
    "list(walk_network.keys())[:10]"
   ]
  },
  {
   "cell_type": "code",
   "execution_count": 178,
   "id": "32a5e64b",
   "metadata": {},
   "outputs": [
    {
     "data": {
      "text/plain": [
       "41211"
      ]
     },
     "execution_count": 178,
     "metadata": {},
     "output_type": "execute_result"
    }
   ],
   "source": [
    "len(walk_network)"
   ]
  },
  {
   "cell_type": "code",
   "execution_count": 179,
   "id": "c08487c3",
   "metadata": {},
   "outputs": [
    {
     "data": {
      "text/plain": [
       "array([[      7, 9481680],\n",
       "       [     22,  195479]], dtype=int32)"
      ]
     },
     "execution_count": 179,
     "metadata": {},
     "output_type": "execute_result"
    }
   ],
   "source": [
    "walk_network[299]"
   ]
  },
  {
   "cell_type": "code",
   "execution_count": 180,
   "id": "87d7d4a1",
   "metadata": {},
   "outputs": [
    {
     "data": {
      "text/plain": [
       "array([[     20, 6622311],\n",
       "       [     30, 3394364],\n",
       "       [      7,     299]], dtype=int32)"
      ]
     },
     "execution_count": 180,
     "metadata": {},
     "output_type": "execute_result"
    }
   ],
   "source": [
    "walk_network[9481680]"
   ]
  },
  {
   "cell_type": "code",
   "execution_count": 182,
   "id": "3fe317c2",
   "metadata": {},
   "outputs": [],
   "source": [
    "\n",
    "## adding this binary search\n",
    "@nb.njit\n",
    "def get_pos_in_list(elements, new_value):\n",
    "    \"\"\"\n",
    "    elements = list of numbers to find the position in\n",
    "    \n",
    "    new_value to insert\n",
    "    \"\"\"\n",
    "\n",
    "    \n",
    "    elem_count = len(elements)\n",
    "    \n",
    "    \n",
    "    bisections_to_do = int32(np.ceil(np.log2(elem_count)))\n",
    "    position_tracker = int32(0)\n",
    "    \n",
    "\n",
    "    for i in range(bisections_to_do):        \n",
    "        \n",
    "        cut_pos = 2**(bisections_to_do-1-i)\n",
    "        \n",
    "        idx = position_tracker + cut_pos\n",
    "        \n",
    "        if elem_count <= idx: # only do this if idx fits in existing list\n",
    "            cut_pos = 0\n",
    "        \n",
    "        try:\n",
    "            if new_value >= elements[position_tracker + cut_pos]:\n",
    "                position_tracker += cut_pos    # starting point moves to middle of that section\n",
    "            else:\n",
    "                pass\n",
    "        except:\n",
    "            pass\n",
    "        \n",
    "        \n",
    "    ## correction maker: makes it work. Less elegant but hey\n",
    "    for i in range(1):\n",
    "        if elements[position_tracker] < new_value:\n",
    "            position_tracker += 1\n",
    "\n",
    "            \n",
    "    return position_tracker\n"
   ]
  },
  {
   "cell_type": "code",
   "execution_count": null,
   "id": "dee698a3",
   "metadata": {},
   "outputs": [],
   "source": [
    "\n",
    "## ORIGINAL!\n",
    "@nb.njit\n",
    "def walk_simulation(walk_network, init_key):\n",
    "    \n",
    "    nodes_visited = 0\n",
    "    \n",
    "    nodes_to_visit_list = [init_key]\n",
    "    times_to_nodes_list = [0]\n",
    "    \n",
    "    \n",
    "  \n",
    "    while True:\n",
    "        \n",
    "        try:\n",
    "            node_id = nodes_to_visit_list[0]\n",
    "            time_so_far = times_to_nodes_list[0]\n",
    "            nodes_visited += 1\n",
    "            record_set_nodes_visited.add(node_id)\n",
    "        except:\n",
    "            break\n",
    "            \n",
    "        try:\n",
    "            node_array = walk_network[node_id]\n",
    "        except:\n",
    "            nodes_to_visit_list.pop(0)\n",
    "            times_to_nodes_list.pop(0)\n",
    "            continue\n",
    "            \n",
    "            \n",
    "        for i in range(len(node_array)):\n",
    "            \n",
    "            new_time = time_so_far + node_array[i, 0]\n",
    "            if new_time <= 400:\n",
    "                \n",
    "                ix = get_pos_in_list(times_to_nodes_list, new_time)\n",
    "                times_to_nodes_list.insert(ix, new_time)\n",
    "                nodes_to_visit_list.insert(ix, node_array[i, 1])\n",
    "            \n",
    "        del walk_network[node_id]\n",
    "        \n",
    "        \n",
    "    return nodes_visited\n",
    "        "
   ]
  },
  {
   "cell_type": "code",
   "execution_count": 476,
   "id": "656e55fa",
   "metadata": {},
   "outputs": [],
   "source": [
    "\n",
    "\n",
    "@nb.njit\n",
    "def walk_simulation(walk_network, init_key):\n",
    "    \n",
    "    nodes_visited = 0\n",
    "    \n",
    "    nodes_to_visit_list = [init_key]\n",
    "    times_to_nodes_list = [0]\n",
    "    \n",
    "    # give set a value, so numba can infer the type of set, then pop it\n",
    "    record_set_nodes_visited = {1}\n",
    "    record_set_nodes_visited.pop()\n",
    "    \n",
    "  \n",
    "    while True:\n",
    "        \n",
    "        try:\n",
    "            node_id = nodes_to_visit_list[0]\n",
    "            time_so_far = times_to_nodes_list[0]\n",
    "            nodes_visited += 1\n",
    "        except:\n",
    "            break\n",
    "            \n",
    "        # catching nodes already visited\n",
    "        if node_id in record_set_nodes_visited:\n",
    "            nodes_to_visit_list.pop(0)\n",
    "            times_to_nodes_list.pop(0)\n",
    "            continue\n",
    "        else:\n",
    "            record_set_nodes_visited.add(node_id)\n",
    "            \n",
    "        \n",
    "        # catching attempts to visit nodes outside of our network\n",
    "        try:\n",
    "            node_array = walk_network[node_id]\n",
    "        except:\n",
    "            continue\n",
    "            \n",
    "            \n",
    "        for i in range(len(node_array)):\n",
    "            \n",
    "            new_time = time_so_far + node_array[i, 0]\n",
    "            if new_time <= 400:\n",
    "                \n",
    "                ix = get_pos_in_list(times_to_nodes_list, new_time)\n",
    "                times_to_nodes_list.insert(ix, new_time)\n",
    "                nodes_to_visit_list.insert(ix, node_array[i, 1])\n",
    "                    \n",
    "        \n",
    "    return nodes_visited\n",
    "        \n",
    "\n"
   ]
  },
  {
   "cell_type": "code",
   "execution_count": 471,
   "id": "30921c41",
   "metadata": {},
   "outputs": [
    {
     "name": "stdout",
     "output_type": "stream",
     "text": [
      "CPU times: user 390 ms, sys: 753 µs, total: 390 ms\n",
      "Wall time: 391 ms\n"
     ]
    },
    {
     "data": {
      "text/plain": [
       "2741"
      ]
     },
     "execution_count": 471,
     "metadata": {},
     "output_type": "execute_result"
    }
   ],
   "source": [
    "walk_network = pd.read_pickle(path)\n",
    "\n",
    "%time walk_simulation(walk_network, 299)"
   ]
  },
  {
   "cell_type": "code",
   "execution_count": 267,
   "id": "10c3368a",
   "metadata": {},
   "outputs": [],
   "source": [
    "from numba.typed import Dict\n",
    "from numba.core.types import int32\n",
    "\n",
    "walk_network_typed = Dict.empty(\n",
    "        key_type=int32,\n",
    "        value_type=int32[:,:]   # 2d array\n",
    "    ) \n"
   ]
  },
  {
   "cell_type": "code",
   "execution_count": 478,
   "id": "73c1d5bb",
   "metadata": {},
   "outputs": [
    {
     "name": "stdout",
     "output_type": "stream",
     "text": [
      "CPU times: user 843 µs, sys: 8 µs, total: 851 µs\n",
      "Wall time: 857 µs\n"
     ]
    },
    {
     "data": {
      "text/plain": [
       "2741"
      ]
     },
     "execution_count": 478,
     "metadata": {},
     "output_type": "execute_result"
    }
   ],
   "source": [
    "walk_network = pd.read_pickle(path)\n",
    "\n",
    "for k, v in walk_network.items():\n",
    "    walk_network_typed[k] = v\n",
    "    \n",
    "%time walk_simulation(walk_network_typed, 299)"
   ]
  },
  {
   "cell_type": "code",
   "execution_count": 499,
   "id": "63fa305b",
   "metadata": {},
   "outputs": [
    {
     "data": {
      "text/plain": [
       "[9567040,\n",
       " 5371086,\n",
       " 7250077,\n",
       " 6341347,\n",
       " 2050933,\n",
       " 8724254,\n",
       " 2088261,\n",
       " 594304,\n",
       " 421210,\n",
       " 7413490,\n",
       " 8526073,\n",
       " 8773129,\n",
       " 8371141,\n",
       " 504376,\n",
       " 2501995,\n",
       " 1298151,\n",
       " 9135566,\n",
       " 8761646,\n",
       " 1098394,\n",
       " 85643,\n",
       " 5236358,\n",
       " 9229139,\n",
       " 2557822,\n",
       " 5029199,\n",
       " 1234708,\n",
       " 758012,\n",
       " 2983924,\n",
       " 8752248,\n",
       " 6165379,\n",
       " 1657839,\n",
       " 2613702,\n",
       " 5167450,\n",
       " 1604282,\n",
       " 53817,\n",
       " 8387825,\n",
       " 5600479,\n",
       " 2276986,\n",
       " 8758663,\n",
       " 9502308,\n",
       " 7072254]"
      ]
     },
     "execution_count": 499,
     "metadata": {},
     "output_type": "execute_result"
    }
   ],
   "source": [
    "# running simulation in parallel for 10 locations\n",
    "start_nodes = random.choices(list(walk_network.keys()),k=40)\n",
    "start_nodes\n"
   ]
  },
  {
   "cell_type": "code",
   "execution_count": 500,
   "id": "42fc65bb",
   "metadata": {},
   "outputs": [],
   "source": [
    "@nb.njit(parallel=True)\n",
    "def simulator(walk_network_typed, start_nodes):\n",
    "    \n",
    "    iter_count = len(start_nodes)\n",
    "    \n",
    "    results_list = [1.0] * iter_count\n",
    "    for i in nb.prange(iter_count):\n",
    "        results_list[i] = walk_simulation(walk_network_typed, start_nodes[i])\n",
    "        \n",
    "    return results_list\n",
    "\n",
    "\n",
    "@nb.njit()\n",
    "def simulator_nopa(walk_network_typed, start_nodes):\n",
    "    \n",
    "    iter_count = len(start_nodes)\n",
    "    \n",
    "    results_list = [1.0] * iter_count\n",
    "    for i in nb.prange(iter_count):\n",
    "        results_list[i] = walk_simulation(walk_network_typed, start_nodes[i])\n",
    "        \n",
    "    return results_list"
   ]
  },
  {
   "cell_type": "code",
   "execution_count": 506,
   "id": "00f1f697",
   "metadata": {},
   "outputs": [
    {
     "name": "stdout",
     "output_type": "stream",
     "text": [
      "2.71 ms ± 298 µs per loop (mean ± std. dev. of 7 runs, 50 loops each)\n",
      "9.14 ms ± 1.12 ms per loop (mean ± std. dev. of 7 runs, 50 loops each)\n"
     ]
    }
   ],
   "source": [
    "%timeit -n 50 simulator(walk_network_typed, start_nodes)\n",
    "%timeit -n 50 simulator_nopa(walk_network_typed, start_nodes)"
   ]
  },
  {
   "cell_type": "code",
   "execution_count": null,
   "id": "3b25b87e",
   "metadata": {},
   "outputs": [],
   "source": []
  }
 ],
 "metadata": {
  "kernelspec": {
   "display_name": "Python 3",
   "language": "python",
   "name": "python3"
  },
  "language_info": {
   "codemirror_mode": {
    "name": "ipython",
    "version": 3
   },
   "file_extension": ".py",
   "mimetype": "text/x-python",
   "name": "python",
   "nbconvert_exporter": "python",
   "pygments_lexer": "ipython3",
   "version": "3.8.8"
  }
 },
 "nbformat": 4,
 "nbformat_minor": 5
}
